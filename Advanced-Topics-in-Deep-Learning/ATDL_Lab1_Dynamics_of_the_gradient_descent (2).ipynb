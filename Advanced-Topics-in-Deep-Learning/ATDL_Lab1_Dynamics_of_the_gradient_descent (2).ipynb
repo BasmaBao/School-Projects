{
  "cells": [
    {
      "cell_type": "markdown",
      "metadata": {
        "id": "qTIPSM_EakZl"
      },
      "source": [
        "# Lab 1: Teacher-Student estimation problem\n",
        "\n",
        "We study the generalization error dynamics in a shallow linear neural network receiving $n$-dimensional inputs. We consider a standard student-teacher formulation.\n"
      ]
    },
    {
      "cell_type": "markdown",
      "metadata": {
        "id": "qYtln9X5akZo"
      },
      "source": [
        "Import the libraries"
      ]
    },
    {
      "cell_type": "code",
      "execution_count": 1,
      "metadata": {
        "id": "jQGN3zLIakZp"
      },
      "outputs": [],
      "source": [
        "import torch\n",
        "import numpy as np\n",
        "\n",
        "%matplotlib inline\n",
        "import matplotlib.pyplot as plt"
      ]
    },
    {
      "cell_type": "code",
      "execution_count": 2,
      "metadata": {
        "colab": {
          "base_uri": "https://localhost:8080/"
        },
        "id": "rLbu3oidakZq",
        "outputId": "e7a28206-3e93-485f-94be-6aa438199594"
      },
      "outputs": [
        {
          "output_type": "execute_result",
          "data": {
            "text/plain": [
              "<torch._C.Generator at 0x7f724e939190>"
            ]
          },
          "metadata": {},
          "execution_count": 2
        }
      ],
      "source": [
        "seed = 79790\n",
        "torch.manual_seed(seed) # set the seed of the random generator"
      ]
    },
    {
      "cell_type": "markdown",
      "metadata": {
        "id": "T2zuCWa2akZq"
      },
      "source": [
        "**Teacher model**\n",
        "\n",
        "The teacher implements a noisy linear mapping between $N$ inputs $x_i\\in\\mathbb{R}^n$:\n",
        "\\begin{equation}\n",
        "y_i=x_i^T\\beta+\\varepsilon_i=\\sum_{j=1}^{n}x_{i,j}\\beta_j+\\varepsilon_i,\\:i=1,\\ldots,N.\n",
        "\\end{equation}\n",
        "We assume that the inputs $x_{i,j}$ are drawn i.i.d. from a Gaussian with mean zero and variance $\\frac{1}{n}$ so that each example will have an expected norm of one: $\\mathbb{E}({\\left\\lVert x_i\\right\\rVert}^2_2)= 1$. \n",
        "\n",
        "In matrix form, we get\n",
        "\\begin{equation}\\label{eq:teacher-mechanism}\n",
        "y = S\\beta+\\varepsilon\n",
        "\\end{equation}\n",
        "where the $i$-th row of $S \\in \\mathbb{R}^{N\\times n}$ is $x_i^T$, $y=(y_1,\\ldots,y_N) \\in \\mathbb{R}^{N}$ and $\\varepsilon=(\\varepsilon_1,\\ldots,\\varepsilon_N) \\in \\mathbb{R}^{N}$. We assume that $N>n$ and that $S$ is a full column rank matrix.\n",
        "\n",
        "In the equation above, $\\varepsilon$ denotes noise in the teacher’s output. We will model both the noise $\\varepsilon_i$ and the teacher weights $\\beta_j$ as drawn i.i.d. from a random Gaussian distribution with zero mean and variance $\\sigma^2_{\\varepsilon}$ and $\\sigma^2_{\\beta}$ respectively. \n",
        "\n"
      ]
    },
    {
      "cell_type": "markdown",
      "metadata": {
        "id": "mp-8Z6Q6akZr"
      },
      "source": [
        "### Question 1: Code the teacher data generation mechanism in Pytorch. Use the tensors of Pytorch to store the training data $S$ and $y$. You will take on $n=4$, $N=20$, $\\sigma_{\\beta}=0.7$, and $\\sigma_{\\varepsilon}=1.5$."
      ]
    },
    {
      "cell_type": "code",
      "source": [
        "# Write your code here."
      ],
      "metadata": {
        "id": "4PzY2BrBa1I7"
      },
      "execution_count": 3,
      "outputs": []
    },
    {
      "cell_type": "markdown",
      "metadata": {
        "id": "1mwuk6u2akZs"
      },
      "source": [
        "Teacher parameters"
      ]
    },
    {
      "cell_type": "code",
      "execution_count": 4,
      "metadata": {
        "id": "eb6CR10VakZt"
      },
      "outputs": [],
      "source": [
        "N = 20 # number of samples for the training\n",
        "n = 4 # Dimension of the input\n",
        "sigma_beta = 0.7  # initialization of the teacher\n",
        "sigma_epsilon = 1.5 # initialization of the noise\n"
      ]
    },
    {
      "cell_type": "markdown",
      "metadata": {
        "id": "VJwUJ4bkakZt"
      },
      "source": [
        "Generate the dataset S of inputs"
      ]
    },
    {
      "cell_type": "code",
      "execution_count": 5,
      "metadata": {
        "colab": {
          "base_uri": "https://localhost:8080/"
        },
        "id": "KUhE8ObjakZt",
        "outputId": "acbc1d28-c20f-4f66-b017-73b2954c5c0b"
      },
      "outputs": [
        {
          "output_type": "stream",
          "name": "stdout",
          "text": [
            "tensor(0.9871)\n"
          ]
        }
      ],
      "source": [
        "S = 1/np.sqrt(n)*torch.randn(N, n)\n",
        "\n",
        "# compute the norm of the square rows\n",
        "sumS2 = torch.sum(S**2, 1)\n",
        "print(sumS2.mean())"
      ]
    },
    {
      "cell_type": "markdown",
      "metadata": {
        "id": "bsuZiQZoakZu"
      },
      "source": [
        "Generate $\\beta$"
      ]
    },
    {
      "cell_type": "code",
      "execution_count": 6,
      "metadata": {
        "colab": {
          "base_uri": "https://localhost:8080/"
        },
        "id": "fY2yAfZNakZu",
        "outputId": "aa51f251-66a9-4a28-d894-52d0674aecfe"
      },
      "outputs": [
        {
          "output_type": "stream",
          "name": "stdout",
          "text": [
            "tensor([-1.2990,  1.1700,  0.5823, -0.6471])\n"
          ]
        }
      ],
      "source": [
        "beta = sigma_beta*torch.randn(n,1)\n",
        "print(np.squeeze(beta))"
      ]
    },
    {
      "cell_type": "markdown",
      "metadata": {
        "id": "RtdWVHctakZu"
      },
      "source": [
        "Generate the noise $\\varepsilon$"
      ]
    },
    {
      "cell_type": "code",
      "execution_count": 7,
      "metadata": {
        "colab": {
          "base_uri": "https://localhost:8080/"
        },
        "id": "0u_tIRk_akZv",
        "outputId": "9d416062-0090-478d-d3aa-8121c2ee94d7"
      },
      "outputs": [
        {
          "output_type": "stream",
          "name": "stdout",
          "text": [
            "torch.Size([20, 1])\n"
          ]
        }
      ],
      "source": [
        "epsilon = sigma_epsilon*torch.randn(N,1)\n",
        "print(epsilon.shape)"
      ]
    },
    {
      "cell_type": "markdown",
      "metadata": {
        "id": "QKBoxfExakZv"
      },
      "source": [
        "Generate the outputs"
      ]
    },
    {
      "cell_type": "code",
      "execution_count": 8,
      "metadata": {
        "colab": {
          "base_uri": "https://localhost:8080/"
        },
        "id": "Bu7btjKqakZv",
        "outputId": "76ada443-ba27-4eeb-a744-0c65f889c40d"
      },
      "outputs": [
        {
          "output_type": "stream",
          "name": "stdout",
          "text": [
            "torch.Size([20, 1])\n"
          ]
        }
      ],
      "source": [
        "y = torch.mm(S,beta)+epsilon\n",
        "print(y.shape)"
      ]
    },
    {
      "cell_type": "markdown",
      "metadata": {
        "id": "QCqVDUftakZv"
      },
      "source": [
        "**Student model**\n",
        "\n",
        "The student network with weight vector $w \\in \\mathbb{R}^{n}$ is trained on examples $x_i$ generated by a teacher network:\n",
        "\n",
        "$$\n",
        "\\hat{y}_i=x_i^\\top w.\n",
        "$$"
      ]
    },
    {
      "cell_type": "markdown",
      "metadata": {
        "id": "H8qdR-STakZv"
      },
      "source": [
        "**Training the student model**\n",
        "\n",
        "The student network is trained using the dataset $\\{y,S\\}$ to accurately predict outputs for novel inputs $x \\in \\mathbb{R}^n$ . \n",
        "The student is a shallow linear network, such that the student’s prediction $\\hat{y}\\in\\mathbb{R}$ is simply $\\hat{y}=x^Tw$. \n",
        "\n",
        "To learn its parameters, the student network will attempt to minimize the mean squared error on the $N$ training samples using gradient descent. The training error is\n",
        "\\begin{equation}\\label{eq:train-error}\n",
        "E_r(w)=\\frac{1}{N}\\sum_{i=1}^{N}{( y_i -  \\hat{y}_i)}^2=\\frac{1}{N}\\sum_{i=1}^{N}{( y_i -  x_i^T w)}^2=\\frac{1}{N}{\\left\\lVert y -  Sw \\right\\rVert}^2_2.\n",
        "\\end{equation}\n",
        "\n"
      ]
    },
    {
      "cell_type": "markdown",
      "metadata": {
        "id": "eTT-FIi_akZw"
      },
      "source": [
        "### Question 2: Write $E_r(w)$ under the form \n",
        "\\begin{equation}\n",
        "E_r(w)=\\frac{1}{N}{\\left\\lVert y -  Sw \\right\\rVert}^2_2.\n",
        "\\end{equation}"
      ]
    },
    {
      "cell_type": "markdown",
      "metadata": {
        "id": "3TehggrfakZw"
      },
      "source": [
        "Write your answer here."
      ]
    },
    {
      "cell_type": "markdown",
      "metadata": {
        "id": "c-WIY8xvakZw"
      },
      "source": [
        "The rewriting is straightforward."
      ]
    },
    {
      "cell_type": "markdown",
      "metadata": {
        "id": "_LQ772yZakZw"
      },
      "source": [
        "### Question 3: Calculate the gradient of $E_r(w)$ with respect to $w$. Write the gradient in matrix form."
      ]
    },
    {
      "cell_type": "markdown",
      "metadata": {
        "id": "MXGg56W_akZw"
      },
      "source": [
        "Write your answer here."
      ]
    },
    {
      "cell_type": "markdown",
      "metadata": {
        "id": "is0bhvCKakZw"
      },
      "source": [
        "The gradient is\n",
        "\n",
        "$$\n",
        "\\nabla E_r(w)=\\frac{2}{N}\\left(S^\\top Sw-S^\\top y\\right)\n",
        "$$"
      ]
    },
    {
      "cell_type": "markdown",
      "metadata": {
        "id": "5SlXyg-JakZw"
      },
      "source": [
        "### Question 4: What is the minimum value of $E_r(w)$? This value is denoted $E_r^*$."
      ]
    },
    {
      "cell_type": "markdown",
      "metadata": {
        "id": "iHzjXFRCakZw"
      },
      "source": [
        "Write your answer here."
      ]
    },
    {
      "cell_type": "markdown",
      "metadata": {
        "id": "NuBvcGngakZw"
      },
      "source": [
        "The optimal value $w^*$ is given by $\\nabla E_r(w^*)=0$, i.e.,\n",
        "\n",
        "$$\n",
        "w^* = {\\left( S^\\top S \\right)}^{-1}S^\\top y\n",
        "$$\n",
        "\n",
        "Hence, $E_r^*=\\frac{1}{N}{\\left\\lVert y -  Sw^* \\right\\rVert}^2_2=\\frac{1}{N}{\\left\\lVert y -  S{\\left( S^\\top S \\right)}^{-1}S^\\top y \\right\\rVert}^2_2$"
      ]
    },
    {
      "cell_type": "markdown",
      "metadata": {
        "id": "avEPloCiakZx"
      },
      "source": [
        "### Question 5: Compute the optimal weights $w^*$ such that $E_r(w^*)=E_r^*$ and $E_r^*$."
      ]
    },
    {
      "cell_type": "code",
      "source": [
        "# Write your code here."
      ],
      "metadata": {
        "id": "5hctfB3da9ft"
      },
      "execution_count": 9,
      "outputs": []
    },
    {
      "cell_type": "markdown",
      "metadata": {
        "id": "rntA3w3pakZx"
      },
      "source": [
        "Optimal solution which minimizes the train error"
      ]
    },
    {
      "cell_type": "code",
      "execution_count": 10,
      "metadata": {
        "colab": {
          "base_uri": "https://localhost:8080/"
        },
        "id": "TdRO5vcIakZx",
        "outputId": "e0c92106-0cbd-4198-800a-254d2758a94d"
      },
      "outputs": [
        {
          "output_type": "stream",
          "name": "stdout",
          "text": [
            "wstar= [-1.0798115   0.04110865  0.9907534  -1.6747283 ]\n",
            "ErStar= 1.677614974975586\n"
          ]
        }
      ],
      "source": [
        "# Compute the optimal estimate (this is the optimal linear estimate on the train set)\n",
        "Stra = S.t() # transpose the matrix S\n",
        "wstar = torch.inverse(Stra.mm(S)).mm(Stra).mm(y).view(-1,1).detach().numpy()\n",
        "print('wstar=', np.squeeze(wstar))\n",
        "ErStar = 1 / N * np.sum((S.detach().numpy().dot(wstar)-y.detach().numpy())**2) \n",
        "print('ErStar=', ErStar)"
      ]
    },
    {
      "cell_type": "markdown",
      "metadata": {
        "id": "udWCOgpbakZx"
      },
      "source": [
        "**Generalization error**\n",
        "\n",
        "We will study the generalization error\n",
        "\\begin{equation}\n",
        "E_g(t)=E_g(w(t))=\\mathbb{E}_{X,Y}{\\left(Y-X^Tw(t)\\right)}^2=\\mathbb{E}_{X,\\varepsilon}{\\left(X^T\\beta+\\varepsilon-X^Tw(t)\\right)}^2,\n",
        "\\end{equation}\n",
        "where $w(t)$ is the student weight estimated at time $t$ during the gradient descent and $\\varepsilon$ is a random value following a Gaussian distribution with zero mean and variance $\\sigma^2_{\\varepsilon}$.\n",
        "\n"
      ]
    },
    {
      "cell_type": "markdown",
      "metadata": {
        "id": "U4He77DVakZx"
      },
      "source": [
        "### Question 6: What is the oracle error $E_\\infty=\\mathbb{E}_{X,Y}{\\left(Y-X^Tw(t)\\right)}^2$ when $w(t)=\\beta$ ?"
      ]
    },
    {
      "cell_type": "markdown",
      "metadata": {
        "id": "lj1LIepRakZx"
      },
      "source": [
        "Write your answer here."
      ]
    },
    {
      "cell_type": "markdown",
      "metadata": {
        "id": "iky1mcKHakZx"
      },
      "source": [
        "It is\n",
        "\n",
        "$$\n",
        "E_\\infty=\\mathbb{E}_{X,\\varepsilon}{\\left(\\varepsilon\\right)}^2=\\sigma^2_{\\varepsilon}.\n",
        "$$"
      ]
    },
    {
      "cell_type": "markdown",
      "metadata": {
        "id": "aLuquB1wakZx"
      },
      "source": [
        "### Question 7: Generate an evaluation dataset with 10 000 teacher samples. This dataset will be used to compute the evaluation error of the trained student network during the training."
      ]
    },
    {
      "cell_type": "code",
      "source": [
        "# Write your code here."
      ],
      "metadata": {
        "id": "DOtN7wHXbB28"
      },
      "execution_count": 11,
      "outputs": []
    },
    {
      "cell_type": "markdown",
      "metadata": {
        "id": "RthxYU-bakZx"
      },
      "source": [
        "Evaluation dataset"
      ]
    },
    {
      "cell_type": "code",
      "execution_count": 12,
      "metadata": {
        "colab": {
          "base_uri": "https://localhost:8080/"
        },
        "id": "dsyi_6E_akZx",
        "outputId": "1600be8a-223b-4f31-abc9-55ed5ba9e7b8"
      },
      "outputs": [
        {
          "output_type": "stream",
          "name": "stdout",
          "text": [
            "torch.Size([10000, 4])\n"
          ]
        }
      ],
      "source": [
        "evalN = 10000 # number of samples for the evaluation\n",
        "\n",
        "evalS = 1/np.sqrt(n)*torch.randn(evalN, n)\n",
        "evalEpsilon = sigma_epsilon*torch.randn(evalN,1)\n",
        "eval_y = torch.mm(evalS,beta)+evalEpsilon\n",
        "\n",
        "print(evalS.shape)"
      ]
    },
    {
      "cell_type": "markdown",
      "metadata": {
        "id": "ECPKvyhGakZy"
      },
      "source": [
        "**Gradient descent**\n",
        "\n",
        "We will use the full gradient descent algorithm to minimize $E_r(w)$:\n",
        "\\begin{equation}\n",
        "w_{k+1}=w_{k}-\\lambda \\nabla E_r(w_{k})\n",
        "\\end{equation}\n",
        "where $\\lambda>0$ is a small constant learning rate.\n",
        "We assume that the starting weights $w{(0)}_i$ are drawn i.i.d. from a Gaussian with mean zero and variance $\\sigma^2_0$. \n"
      ]
    },
    {
      "cell_type": "markdown",
      "metadata": {
        "id": "YqL4vu6AakZy"
      },
      "source": [
        "### Question 8: Implement a shallow neural network in Pytorch to learn $w$ by minmizing the error. The neural network will have only one fully connected layer with no bias. You will use the SGD optimizer from the library \"torch.optim\". You will take on $\\sigma_{0}=0.2$ and the learning rate should be close to $0.01$. The number of iterations will be close to 2 500. You must compute both the training error (on the training dataset) and the evaluation (on the evaluation dataset)."
      ]
    },
    {
      "cell_type": "code",
      "source": [
        "# Write your code here."
      ],
      "metadata": {
        "id": "DyqVRKPtbFBO"
      },
      "execution_count": 13,
      "outputs": []
    },
    {
      "cell_type": "markdown",
      "metadata": {
        "id": "4s8f_dpKakZy"
      },
      "source": [
        "Student parameters"
      ]
    },
    {
      "cell_type": "code",
      "execution_count": 14,
      "metadata": {
        "id": "mvMSwdBQakZy"
      },
      "outputs": [],
      "source": [
        "sigma_0 = 0.2 # initialization of the linear layer\n",
        "mylr = 1e-2 # Learning rate\n",
        "Niter = 2500 # number of iterations for the neural network training"
      ]
    },
    {
      "cell_type": "code",
      "execution_count": 15,
      "metadata": {
        "id": "lMCZCgEpakZy"
      },
      "outputs": [],
      "source": [
        "class OneLayerNet(torch.nn.Module):\n",
        "    def __init__(self, D_in, D_out, w0):\n",
        "        \"\"\"\n",
        "        In the constructor we instantiate Modules we need and assign them as\n",
        "        member variables.\n",
        "        \"\"\"\n",
        "        super(OneLayerNet, self).__init__()\n",
        "        self.linear = torch.nn.Linear(D_in, D_out, bias = False)\n",
        "        torch.nn.init.normal_(self.linear.weight, mean=0.0, std=w0)\n",
        "        \n",
        "    def forward(self, x):\n",
        "        \"\"\"\n",
        "        In the forward function we accept a Tensor of input data and we must return\n",
        "        a Tensor of output data. We can use Modules defined in the constructor as\n",
        "        well as arbitrary operators on Tensors.\n",
        "        \"\"\"\n",
        "        y_pred = self.linear(x)\n",
        "        return y_pred"
      ]
    },
    {
      "cell_type": "code",
      "execution_count": 16,
      "metadata": {
        "colab": {
          "base_uri": "https://localhost:8080/"
        },
        "id": "R5C5goK8akZy",
        "outputId": "c6779296-6fad-417c-cc4a-614739a6009a"
      },
      "outputs": [
        {
          "output_type": "stream",
          "name": "stdout",
          "text": [
            "0.018693041\n",
            "0.08331884\n",
            "None\n"
          ]
        }
      ],
      "source": [
        "# Construct our model by instantiating the class defined above\n",
        "model = OneLayerNet(n, 1, sigma_0)\n",
        "\n",
        "# check initialization of the linear layer weights\n",
        "w0 = model.linear.weight.data.numpy().reshape(-1,1).copy()\n",
        "print(w0.mean())\n",
        "print(w0.std()) \n",
        "\n",
        "# Check there is no bias\n",
        "print(model.linear.bias)"
      ]
    },
    {
      "cell_type": "markdown",
      "metadata": {
        "id": "zsWcSewwakZy"
      },
      "source": [
        "Test how the model is running"
      ]
    },
    {
      "cell_type": "code",
      "execution_count": 17,
      "metadata": {
        "colab": {
          "base_uri": "https://localhost:8080/"
        },
        "id": "jhxBbl51akZy",
        "outputId": "bccf9924-3965-45c1-f77d-ff9739115096"
      },
      "outputs": [
        {
          "output_type": "stream",
          "name": "stdout",
          "text": [
            "torch.Size([20, 4])\n",
            "torch.Size([20, 1])\n"
          ]
        }
      ],
      "source": [
        "y_pred = model(S)\n",
        "print(S.shape)\n",
        "print(y_pred.shape)"
      ]
    },
    {
      "cell_type": "code",
      "execution_count": 18,
      "metadata": {
        "id": "FLGM6NeIakZy"
      },
      "outputs": [],
      "source": [
        "# Construct our loss function and an Optimizer. The call to model.parameters()\n",
        "# in the SGD constructor will contain the learnable parameters which are members of the model.\n",
        "\n",
        "criterion = torch.nn.MSELoss(reduction='mean')\n",
        "optimizer = torch.optim.SGD(model.parameters(), lr=mylr)"
      ]
    },
    {
      "cell_type": "code",
      "execution_count": 19,
      "metadata": {
        "colab": {
          "base_uri": "https://localhost:8080/"
        },
        "id": "6-HDRlvjakZy",
        "outputId": "7025cc0c-ff92-4ffc-aa6a-2a34dc8c470d"
      },
      "outputs": [
        {
          "output_type": "stream",
          "name": "stdout",
          "text": [
            "0 3.0551300048828125\n",
            "200 1.8270028829574585\n",
            "400 1.7312285900115967\n",
            "600 1.702581763267517\n",
            "800 1.6896015405654907\n",
            "1000 1.6833995580673218\n",
            "1200 1.6804101467132568\n",
            "1400 1.6789662837982178\n",
            "1600 1.6782681941986084\n",
            "1800 1.6779310703277588\n",
            "2000 1.6777677536010742\n",
            "2200 1.6776889562606812\n",
            "2400 1.6776506900787354\n"
          ]
        }
      ],
      "source": [
        "Wt = np.zeros((Niter,n)) # save the estimates of the weights\n",
        "Lt = np.zeros((Niter,1)) # save the loss\n",
        "eval_Lt = np.zeros((Niter,1)) # save the evaluation loss\n",
        "\n",
        "# Training loop\n",
        "for t in range(Niter):\n",
        "    # Forward pass: Compute predicted y by passing x to the model\n",
        "    y_pred = model(S)\n",
        "    \n",
        "    wt = model.linear.weight.data.numpy().copy()\n",
        "    Wt[t,:]=wt\n",
        "\n",
        "    # Compute and print loss\n",
        "    loss = criterion(y_pred, y)\n",
        "    Lt[t] = loss.detach().numpy()\n",
        "    \n",
        "    # Evaluation of the expected error\n",
        "    eval_y_pred = model(evalS)\n",
        "    eval_loss = criterion(eval_y_pred, eval_y)\n",
        "    eval_Lt[t] = eval_loss.detach().numpy()\n",
        "    \n",
        "    if t % (200) == 0:\n",
        "        print(t, loss.item())\n",
        "\n",
        "    # Zero gradients, perform a backward pass, and update the weights.\n",
        "    optimizer.zero_grad()\n",
        "    loss.backward()\n",
        "    optimizer.step()\n",
        "\n"
      ]
    },
    {
      "cell_type": "markdown",
      "metadata": {
        "id": "ndRcnmLCakZz"
      },
      "source": [
        "### Question 9: Plot the training error $E_r(t)=E_r(w(t))$ as a function of the gradient descent iterates $t=1,2,\\ldots$. You can use the libraries ``matplotlib'' and ``numpy'' to plot the error. Plot on the same graph the constant oracle error $E_\\infty$ and also the optimal training error $E_r^*$."
      ]
    },
    {
      "cell_type": "code",
      "source": [
        "# Write your code here."
      ],
      "metadata": {
        "id": "2x5vGITLbIBs"
      },
      "execution_count": 20,
      "outputs": []
    },
    {
      "cell_type": "code",
      "execution_count": 21,
      "metadata": {
        "colab": {
          "base_uri": "https://localhost:8080/",
          "height": 265
        },
        "id": "t-R_w1oAakZz",
        "outputId": "5f0ea785-3a68-481b-ae5c-2c9909da6208"
      },
      "outputs": [
        {
          "output_type": "display_data",
          "data": {
            "text/plain": [
              "<Figure size 432x288 with 1 Axes>"
            ],
            "image/png": "[encoded data removed]"
          },
          "metadata": {
            "needs_background": "light"
          }
        }
      ],
      "source": [
        "T = range(Niter)\n",
        "figure = plt.figure()\n",
        "b1 = plt.plot(T, Lt, 'b-', label='Train loss')\n",
        "b2 = plt.plot(T, eval_Lt, 'r-', label='Test loss')\n",
        "b3 = plt.plot(T, (sigma_epsilon**2) * np.ones((Niter,1)), 'g--', label='Oracle')\n",
        "b5 = plt.plot(T, ErStar * np.ones((Niter,1)), 'k:', label='Optimal train loss')\n",
        "plt.legend(loc='upper center', shadow=True, fontsize='x-large')\n",
        "plt.show()"
      ]
    },
    {
      "cell_type": "markdown",
      "metadata": {
        "id": "HwSkHbHwakZz"
      },
      "source": [
        "EXTRA: We plot the values of $w$ as a function of the gradient steps. We also plot the optimal values for the training dataset."
      ]
    },
    {
      "cell_type": "code",
      "execution_count": 22,
      "metadata": {
        "colab": {
          "base_uri": "https://localhost:8080/",
          "height": 729
        },
        "id": "sPrMbmyqakZz",
        "outputId": "423d20d9-61cb-49b5-e5ae-f94ed57edc50"
      },
      "outputs": [
        {
          "output_type": "display_data",
          "data": {
            "text/plain": [
              "<Figure size 432x720 with 4 Axes>"
            ],
            "image/png": "[encoded data removed]"
          },
          "metadata": {
            "needs_background": "light"
          }
        }
      ],
      "source": [
        "what = Wt[Niter-1,:] # last estimate from the neural network\n",
        "fig, axs = plt.subplots(n,  sharex=True, figsize = (6,10))\n",
        "for i in range(n):\n",
        "    axs[i].set_ylabel(\"w\"+str(i))\n",
        "    axs[i].plot(T, Wt[:,i], 'b-', label='Estimation')\n",
        "    axs[i].plot(T, wstar[i]*np.ones((Niter,1)), 'r-' , label='Optimal')\n",
        "    axs[i].plot(T, beta[i]*np.ones((Niter,1)), 'g--', label='Truth')\n",
        "    axs[i].set_title('Convergence of the weight')\n",
        "fig.tight_layout()\n",
        "plt.legend(loc='upper center', shadow=True)\n",
        "plt.show()\n",
        "\n",
        "# Hide x labels and tick labels for all but bottom plot.\n",
        "for ax in axs:\n",
        "    ax.label_outer()"
      ]
    },
    {
      "cell_type": "markdown",
      "metadata": {
        "id": "F6YKIwBeakZz"
      },
      "source": [
        "### Question 10: As shown in the lecture, the gradient descent trajectory is approximated by the solution of \n",
        "\\begin{equation}\n",
        "\t\\tau\\, \\dot{w}(t) = S^Ty-S^TSw(t)\n",
        "\\end{equation}\n",
        "with $\\tau=\\frac{N}{2}$.\n",
        "\n",
        "By using an appropriate change of variables, we get $n$ uncoupled differential equations\n",
        "$$\n",
        "\\tau \\dot{z}_i(t)=(\\delta_i-z_i(t)) \\lambda_i+\\gamma_i \\sqrt{\\lambda_i}\n",
        "$$\n",
        "\n",
        "Their solutions are\n",
        "\n",
        "$$\n",
        "z_i(t)=\\delta_i+(z_i(0)-\\delta_i)e^{-\\frac{\\lambda_i}{\\tau}t}+\\frac{\\gamma_i}{\\sqrt{\\lambda_i}}(1-e^{-\\frac{\\lambda_i}{\\tau}t})\n",
        "$$\n",
        "\n",
        "where $S^\\top S=V\\Lambda V^\\top$, $z=V^\\top w$, $\\delta=V^\\top \\beta$ and $\\gamma=\\Lambda^{-\\frac{1}{2}}V^\\top S^\\top\\varepsilon$. The diagonal elements of $\\Lambda$ are the eigenvalues $\\lambda_i$.\n",
        "\n",
        "All the notations are defined in the lecture.\n",
        "\n",
        "Compute the $n$ functions $z_i(t)$ for $t=k \\lambda$ where $k=0,1,\\ldots,N$\n",
        "\t"
      ]
    },
    {
      "cell_type": "code",
      "source": [
        "# Write your code here."
      ],
      "metadata": {
        "id": "EM-tBymMbLFa"
      },
      "execution_count": 23,
      "outputs": []
    },
    {
      "cell_type": "code",
      "execution_count": 24,
      "metadata": {
        "id": "sKMd4M_-akZz"
      },
      "outputs": [],
      "source": [
        "Snp = S.numpy()\n",
        "L, V = np.linalg.eig( (Snp.T).dot(S)) # diagonalization\n",
        "Lambda = np.diag(L)\n",
        "Lvector = L.reshape(-1,1)\n",
        "\n",
        "StSa = (V).dot(Lambda.dot(V.T))\n",
        "\n",
        "\n",
        "delta = (V.T).dot(beta.numpy())\n",
        "\n",
        "gamma = np.diag(1./np.sqrt(L)).dot(V.T).dot(S.T).dot(epsilon.numpy())\n",
        "\n",
        "z0 = V.T.dot(w0) # Initial conditions on $z$\n",
        "\n",
        "# Value of tau\n",
        "tau = N/2\n",
        "\n",
        "# Time samples\n",
        "t = np.arange(Niter).reshape(1,-1)*mylr\n",
        "\n",
        "# Compute the uncoupled solutions\n",
        "z = delta + (z0-delta)*np.exp(-Lvector/tau*np.squeeze(t))+gamma/np.sqrt(Lvector)*(1-np.exp(-Lvector/tau*np.squeeze(t)))\n"
      ]
    },
    {
      "cell_type": "markdown",
      "metadata": {
        "id": "noCnbjEGakZ0"
      },
      "source": [
        "### Question 11: Compute the coupled trajectories $w(t)=Vz(t)$."
      ]
    },
    {
      "cell_type": "code",
      "source": [
        "# Write your code here."
      ],
      "metadata": {
        "id": "Fs8qKx4rbMnR"
      },
      "execution_count": 25,
      "outputs": []
    },
    {
      "cell_type": "code",
      "execution_count": 26,
      "metadata": {
        "colab": {
          "base_uri": "https://localhost:8080/"
        },
        "id": "4ZASRh25akZ0",
        "outputId": "4ab3eb95-17f8-447e-95fd-ca144ee480ac"
      },
      "outputs": [
        {
          "output_type": "stream",
          "name": "stdout",
          "text": [
            "(4, 2500)\n"
          ]
        }
      ],
      "source": [
        "wsol = V.dot(z)\n",
        "print(wsol.shape)"
      ]
    },
    {
      "cell_type": "markdown",
      "metadata": {
        "id": "dAV0kHr8akZ0"
      },
      "source": [
        "### Question 12: Plot the empirical learned weights together with the approximated analytic solution $w(t$ as a function of the gradient descent iterates $t=1,2,\\ldots$. Plot on the same graph the true coefficients $\\beta$, the optimal training weights $w^*$ and the initial weight $w(0)$."
      ]
    },
    {
      "cell_type": "code",
      "source": [
        "# Write your code here."
      ],
      "metadata": {
        "id": "bv3SnngYbOdc"
      },
      "execution_count": 27,
      "outputs": []
    },
    {
      "cell_type": "code",
      "execution_count": 28,
      "metadata": {
        "colab": {
          "base_uri": "https://localhost:8080/",
          "height": 729
        },
        "id": "bAv_LrpvakZ0",
        "outputId": "fed3548f-8608-46b3-86f4-7e42e94aba43"
      },
      "outputs": [
        {
          "output_type": "display_data",
          "data": {
            "text/plain": [
              "<Figure size 432x720 with 4 Axes>"
            ],
            "image/png": "[encoded data removed]"
          },
          "metadata": {
            "needs_background": "light"
          }
        }
      ],
      "source": [
        "tx = np.squeeze(t) # just manage the dimension of t\n",
        "\n",
        "what = Wt[Niter-1,:] # last estimate from the neural network\n",
        "fig, axs = plt.subplots(n,  sharex=True, figsize = (6,10))\n",
        "for i in range(n):\n",
        "    axs[i].set_ylabel(\"w\"+str(i))\n",
        "    axs[i].plot(tx, Wt[:,i], 'b-x', label='Estimation')\n",
        "    axs[i].plot(tx, wsol[i,:], 'y--', label='Analytic solution')\n",
        "    axs[i].plot(tx, wstar[i]*np.ones((Niter,1)), 'r-' , label='Optimal')\n",
        "    axs[i].plot(tx, beta[i]*np.ones((Niter,1)), 'g:', label='Truth')\n",
        "    axs[i].plot(tx, w0[i]*np.ones((Niter,1)), 'm--', label='Initialization')\n",
        "    axs[i].set_title('Convergence of the weight')\n",
        "fig.tight_layout()\n",
        "plt.legend(loc='upper center', shadow=True)\n",
        "plt.show()\n",
        "\n",
        "# Hide x labels and tick labels for all but bottom plot.\n",
        "for ax in axs:\n",
        "    ax.label_outer()"
      ]
    }
  ],
  "metadata": {
    "kernelspec": {
      "display_name": "Python 3 (ipykernel)",
      "language": "python",
      "name": "python3"
    },
    "language_info": {
      "codemirror_mode": {
        "name": "ipython",
        "version": 3
      },
      "file_extension": ".py",
      "mimetype": "text/x-python",
      "name": "python",
      "nbconvert_exporter": "python",
      "pygments_lexer": "ipython3",
      "version": "3.8.12"
    },
    "colab": {
      "provenance": [],
      "toc_visible": true
    }
  },
  "nbformat": 4,
  "nbformat_minor": 0
}