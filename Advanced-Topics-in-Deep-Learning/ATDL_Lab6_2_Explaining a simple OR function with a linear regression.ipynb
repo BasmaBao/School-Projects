{
 "cells": [
  {
   "cell_type": "markdown",
   "metadata": {
    "id": "VQDwJErwAb7T"
   },
   "source": [
    "# Lab 6.2: Explaining a simple OR function\n",
    "\n",
    "This lab examines what it looks like to explain an OR function (OR = logical OR) using SHAP values. It is based on a simple example with two features `is_young` and `is_female`, roughly motivated by the Titanic survival dataset where women and children were given priority during the evacuation and so were more likely to survive. In this simulated example this effect is taken to the extreme, where all children and women survive and no adult men survive.\n",
    "\n",
    "The goal is to compare the theoretical formulas of the SHAP values to the ones computed by the shap library."
   ]
  },
  {
   "cell_type": "code",
   "execution_count": null,
   "metadata": {
    "colab": {
     "base_uri": "https://localhost:8080/"
    },
    "executionInfo": {
     "elapsed": 4,
     "status": "ok",
     "timestamp": 1674393643138,
     "user": {
      "displayName": "Lionel Fillatre",
      "userId": "14463393848879581998"
     },
     "user_tz": -60
    },
    "id": "4pHf8HImAb7W",
    "outputId": "619416f8-ac13-4f4e-ff7b-638d831b32b5"
   },
   "outputs": [],
   "source": [
    "# Print the Python version\n",
    "import sys\n",
    "print(sys.version)"
   ]
  },
  {
   "cell_type": "code",
   "execution_count": null,
   "metadata": {
    "colab": {
     "base_uri": "https://localhost:8080/"
    },
    "executionInfo": {
     "elapsed": 4231,
     "status": "ok",
     "timestamp": 1674393647366,
     "user": {
      "displayName": "Lionel Fillatre",
      "userId": "14463393848879581998"
     },
     "user_tz": -60
    },
    "id": "Dvrpow9_Ab7Y",
    "outputId": "a9cbcdaf-da49-49f9-995f-f8be0213de94"
   },
   "outputs": [],
   "source": [
    "# To install shap on your laptop, you can run in Spyder or in a terminal (with Jupyterlab for example)\n",
    "# conda install -c conda-forge shap\n",
    "# On Google colab\n",
    "!pip install shap"
   ]
  },
  {
   "cell_type": "code",
   "execution_count": null,
   "metadata": {
    "executionInfo": {
     "elapsed": 3388,
     "status": "ok",
     "timestamp": 1674393650750,
     "user": {
      "displayName": "Lionel Fillatre",
      "userId": "14463393848879581998"
     },
     "user_tz": -60
    },
    "id": "wrLHqBSkAb7Z"
   },
   "outputs": [],
   "source": [
    "import numpy as np\n",
    "import shap"
   ]
  },
  {
   "cell_type": "markdown",
   "metadata": {
    "id": "8g9oYVSkAb7Z"
   },
   "source": [
    "### Create a dataset following an OR function"
   ]
  },
  {
   "cell_type": "code",
   "execution_count": null,
   "metadata": {
    "executionInfo": {
     "elapsed": 8,
     "status": "ok",
     "timestamp": 1674393650750,
     "user": {
      "displayName": "Lionel Fillatre",
      "userId": "14463393848879581998"
     },
     "user_tz": -60
    },
    "id": "AB3JRyDKAb7Z"
   },
   "outputs": [],
   "source": [
    "N = 100 # We generate N samples for the dataset\n",
    "M = 2\n",
    "\n",
    "# randomly create binary features for (is_young, and is_female)\n",
    "X = (np.random.randn(N,2) > 0) * 1\n",
    "\n",
    "# force the first sample to be a young male\n",
    "X[0,0] = 1\n",
    "X[0,1] = 0\n",
    "\n",
    "# you survive only if you are young or female\n",
    "y = ((X[:,0] + X[:,1]) > 0) * 1"
   ]
  },
  {
   "cell_type": "code",
   "execution_count": null,
   "metadata": {
    "colab": {
     "base_uri": "https://localhost:8080/"
    },
    "executionInfo": {
     "elapsed": 446,
     "status": "ok",
     "timestamp": 1674393651190,
     "user": {
      "displayName": "Lionel Fillatre",
      "userId": "14463393848879581998"
     },
     "user_tz": -60
    },
    "id": "yqeqCn9jAb7a",
    "outputId": "a14a3eb6-c958-46ad-dfbf-cc70f1191b4b"
   },
   "outputs": [],
   "source": [
    "print(X.shape)\n",
    "print(y.shape)"
   ]
  },
  {
   "cell_type": "markdown",
   "metadata": {
    "id": "UXlehxqMAb7b"
   },
   "source": [
    "### Train a linear regression model to mimic this OR function"
   ]
  },
  {
   "cell_type": "code",
   "execution_count": null,
   "metadata": {
    "colab": {
     "base_uri": "https://localhost:8080/"
    },
    "executionInfo": {
     "elapsed": 3,
     "status": "ok",
     "timestamp": 1674393651190,
     "user": {
      "displayName": "Lionel Fillatre",
      "userId": "14463393848879581998"
     },
     "user_tz": -60
    },
    "id": "0O6geHeFAb7b",
    "outputId": "8427dd34-b53a-4b23-c9cb-217af4fec10e"
   },
   "outputs": [],
   "source": [
    "# a simple linear model\n",
    "import sklearn\n",
    "model = sklearn.linear_model.LinearRegression()\n",
    "model.fit(X, y)\n",
    "y_pred = model.predict(X)\n",
    "print(y_pred)"
   ]
  },
  {
   "cell_type": "markdown",
   "metadata": {
    "id": "wEMAIxH6Ab7c"
   },
   "source": [
    "### Question 1: Print the coefficients of the linear model: $f(x)=\\beta_0 +\\beta_1 X_1 + \\beta_2 X_2$"
   ]
  },
  {
   "cell_type": "code",
   "execution_count": null,
   "metadata": {
    "colab": {
     "base_uri": "https://localhost:8080/"
    },
    "executionInfo": {
     "elapsed": 2,
     "status": "ok",
     "timestamp": 1674393651191,
     "user": {
      "displayName": "Lionel Fillatre",
      "userId": "14463393848879581998"
     },
     "user_tz": -60
    },
    "id": "e7aslVy7Ab7c",
    "outputId": "d0a32d07-f0e9-48cc-eb4b-6bd68bf0a81e"
   },
   "outputs": [],
   "source": [
    "# Fill in this cell\n",
    "print(model.coef_)\n",
    "print(model.intercept_)"
   ]
  },
  {
   "cell_type": "markdown",
   "metadata": {
    "id": "by8hIYOpAb7d"
   },
   "source": [
    "## Explain the prediction for a young boy\n",
    "\n",
    "### Using the training set for the background distribution\n",
    "\n",
    "Note that in the example explanation below `is_young = True` has a positive value (meaning it increases the model output, and hence the prediction of survival), while `is_female = False` has a negative value (meaning it decreases the model output). While one could argue that `is_female = False` should have no impact because we already know that the person is young, SHAP values account for the impact a feature has even when we don't necessarily know the other features, which is why `is_female = False` still has a negative impact on the prediction."
   ]
  },
  {
   "cell_type": "code",
   "execution_count": null,
   "metadata": {
    "colab": {
     "base_uri": "https://localhost:8080/",
     "height": 297
    },
    "executionInfo": {
     "elapsed": 4861,
     "status": "ok",
     "timestamp": 1674393656050,
     "user": {
      "displayName": "Lionel Fillatre",
      "userId": "14463393848879581998"
     },
     "user_tz": -60
    },
    "id": "uwa_0FuzAb7d",
    "outputId": "b7ca5f7e-8a00-4e14-9c8f-2d03196bcd4a"
   },
   "outputs": [],
   "source": [
    "explainer = shap.Explainer(model.predict, X)\n",
    "shap_values = explainer(X[:1,:])\n",
    "print(\"Model prediction:\", model.predict(X[:1,:]).squeeze().round(4)) # This is the first sample\n",
    "print(\"SHAP values for (is_young = True, is_female = False):\", shap_values[0].values)\n",
    "print(\"SHAP base values:\", shap_values[0].base_values.round(4))\n",
    "print(\"Model output with SHAP:\", (shap_values[0].base_values + shap_values[0].values.sum()).round(4))\n",
    "shap.plots.waterfall(shap_values[0])"
   ]
  },
  {
   "cell_type": "markdown",
   "metadata": {
    "id": "yQMO_yTXAb7d"
   },
   "source": [
    "### Question 2: Compute the SHAP base value on the full set\n"
   ]
  },
  {
   "cell_type": "markdown",
   "metadata": {
    "id": "_tCB6ClVAb7e"
   },
   "source": [
    "It is $E_X[f(X)]$"
   ]
  },
  {
   "cell_type": "code",
   "execution_count": null,
   "metadata": {
    "colab": {
     "base_uri": "https://localhost:8080/"
    },
    "executionInfo": {
     "elapsed": 16,
     "status": "ok",
     "timestamp": 1674393656051,
     "user": {
      "displayName": "Lionel Fillatre",
      "userId": "14463393848879581998"
     },
     "user_tz": -60
    },
    "id": "YU_orNw-Ab7e",
    "outputId": "a99ed8d6-68fa-4e97-ac56-52e47947c903"
   },
   "outputs": [],
   "source": [
    "# Fill in this cell\n",
    "shap_base_value = np.mean(y_pred)\n",
    "print(shap_base_value.round(4))"
   ]
  },
  {
   "cell_type": "markdown",
   "metadata": {
    "id": "j5yF_3ujAb7e"
   },
   "source": [
    "### Question 3: Compute the expectation for each features. Check that you can deduce from them the SHAP base value."
   ]
  },
  {
   "cell_type": "code",
   "execution_count": null,
   "metadata": {
    "executionInfo": {
     "elapsed": 10,
     "status": "ok",
     "timestamp": 1674393656051,
     "user": {
      "displayName": "Lionel Fillatre",
      "userId": "14463393848879581998"
     },
     "user_tz": -60
    },
    "id": "DRuciq6IAb7e"
   },
   "outputs": [],
   "source": [
    "expect_features = np.mean(X,0)"
   ]
  },
  {
   "cell_type": "code",
   "execution_count": null,
   "metadata": {
    "colab": {
     "base_uri": "https://localhost:8080/"
    },
    "executionInfo": {
     "elapsed": 10,
     "status": "ok",
     "timestamp": 1674393656051,
     "user": {
      "displayName": "Lionel Fillatre",
      "userId": "14463393848879581998"
     },
     "user_tz": -60
    },
    "id": "EkaAy_1OAb7f",
    "outputId": "b622ca06-160d-4771-b774-6f65b1340d5a"
   },
   "outputs": [],
   "source": [
    "# Fill in this cell\n",
    "expect_weighted_features = (model.coef_)*(np.mean(X,0))\n",
    "print(expect_weighted_features)\n",
    "\n",
    "print(np.sum(expect_weighted_features)+model.intercept_)"
   ]
  },
  {
   "cell_type": "markdown",
   "metadata": {
    "id": "wIjfArZlAb7f"
   },
   "source": [
    "### Question 4: Compute \"by hand\" the prediction of the first sample X[0,:]"
   ]
  },
  {
   "cell_type": "code",
   "execution_count": null,
   "metadata": {
    "colab": {
     "base_uri": "https://localhost:8080/"
    },
    "executionInfo": {
     "elapsed": 8,
     "status": "ok",
     "timestamp": 1674393656051,
     "user": {
      "displayName": "Lionel Fillatre",
      "userId": "14463393848879581998"
     },
     "user_tz": -60
    },
    "id": "hpSFoDVTAb7f",
    "outputId": "53cb4012-dabf-4b01-f5a7-423c4841d1cb"
   },
   "outputs": [],
   "source": [
    "# Fill in this cell\n",
    "prediction_by_hand = (model.coef_).dot(X[0,:])+model.intercept_\n",
    "print(prediction_by_hand.round(4))"
   ]
  },
  {
   "cell_type": "markdown",
   "metadata": {
    "id": "sl3Ig5-1Ab7f"
   },
   "source": [
    "### Question 5: Compute by hand the shap values of the first sample X[0,:]. You must find exactly the values computed with the shap library."
   ]
  },
  {
   "cell_type": "code",
   "execution_count": null,
   "metadata": {
    "colab": {
     "base_uri": "https://localhost:8080/"
    },
    "executionInfo": {
     "elapsed": 7,
     "status": "ok",
     "timestamp": 1674393656051,
     "user": {
      "displayName": "Lionel Fillatre",
      "userId": "14463393848879581998"
     },
     "user_tz": -60
    },
    "id": "eq7bqlzMAb7f",
    "outputId": "e35e724c-026e-487f-dadc-dcf3cb8b7edb"
   },
   "outputs": [],
   "source": [
    "# Fill in this cell\n",
    "phi = (model.coef_)*X[0,:]-expect_weighted_features\n",
    "print(phi.round(4))"
   ]
  },
  {
   "cell_type": "markdown",
   "metadata": {
    "id": "tmlS22oGAb7g"
   },
   "source": [
    "### Using only negative examples for the background distribution\n",
    "\n",
    "The point of this second explanation example is to demonstrate how using a different background distribution can change the allocation of credit among the input features. This happens because we are now comparing the importance of a feature as compared to being someone who died (an adult man). The only thing different about the young boy from someone who died is that the boy is young, so all the credit goes to the `is_young = True` feature.\n",
    "\n",
    "This highlights that often explanations are clearer when a well defined background group is used. In this case it changes the explanation from how this sample is different than typical, to how this sample is different from those who died (in other words, why did you live?)."
   ]
  },
  {
   "cell_type": "code",
   "execution_count": null,
   "metadata": {
    "colab": {
     "base_uri": "https://localhost:8080/",
     "height": 297
    },
    "executionInfo": {
     "elapsed": 464,
     "status": "ok",
     "timestamp": 1674393656509,
     "user": {
      "displayName": "Lionel Fillatre",
      "userId": "14463393848879581998"
     },
     "user_tz": -60
    },
    "id": "CX9Ak5KaAb7g",
    "outputId": "2e1439ac-0faf-48d0-a862-8e9546074fbc"
   },
   "outputs": [],
   "source": [
    "explainer = shap.Explainer(model.predict, X[y == 0,:])\n",
    "# Do not forget that X[y == 0,:] only contains values like [0,0]\n",
    "shap_values = explainer(X[:1,:])\n",
    "print(\"Model prediction:\", model.predict(X[:1,:]).squeeze().round(4))\n",
    "print(\"SHAP values for (is_young = True, is_female = False):\", shap_values[0].values)\n",
    "print(\"SHAP base values:\", shap_values[0].base_values.round(4))\n",
    "print(\"Model output with SHAP:\", (shap_values[0].base_values + shap_values[0].values.sum()).round(4))\n",
    "shap.plots.waterfall(shap_values[0])"
   ]
  },
  {
   "cell_type": "markdown",
   "metadata": {
    "id": "ggvW0-peAb7g"
   },
   "source": [
    "### Question 6: Check the shap values provided by the shap library. You must follow the same approach as in the previous questions. "
   ]
  },
  {
   "cell_type": "code",
   "execution_count": null,
   "metadata": {
    "colab": {
     "base_uri": "https://localhost:8080/"
    },
    "executionInfo": {
     "elapsed": 7,
     "status": "ok",
     "timestamp": 1674393656510,
     "user": {
      "displayName": "Lionel Fillatre",
      "userId": "14463393848879581998"
     },
     "user_tz": -60
    },
    "id": "MrMRdvyoAb7g",
    "outputId": "9f2e316e-e7ae-4b88-cf1a-0b61f063cd9a"
   },
   "outputs": [],
   "source": [
    "# Fill in this cell\n",
    "shap_base_value_negative = np.mean(model.predict(X[y == 0,:]))\n",
    "print(\"SHAP base values:\", shap_base_value_negative.round(4))\n",
    "expect_features_negative = (model.coef_)*(np.mean(X[y == 0,:],0))\n",
    "print(\"Expectation of the features:\", expect_features_negative)\n",
    "phi_negative = (model.coef_)*X[0,:]-expect_features_negative\n",
    "print(\"SHAP values for (is_young = True, is_female = False):\", phi_negative)"
   ]
  },
  {
   "cell_type": "markdown",
   "metadata": {
    "id": "1KwzXwupAb7g"
   },
   "source": [
    "### Using only positive examples for the background distribution\n",
    "\n",
    "We could also use only positive examples for our background distribution, and since the difference between the expected output of the model (under our background distribution) and the current output for the young boy is zero, the sum of the SHAP values will be also be zero."
   ]
  },
  {
   "cell_type": "code",
   "execution_count": null,
   "metadata": {
    "colab": {
     "base_uri": "https://localhost:8080/",
     "height": 297
    },
    "executionInfo": {
     "elapsed": 903,
     "status": "ok",
     "timestamp": 1674393657408,
     "user": {
      "displayName": "Lionel Fillatre",
      "userId": "14463393848879581998"
     },
     "user_tz": -60
    },
    "id": "w1asTqfIAb7g",
    "outputId": "6ceb47db-3fbe-4a98-ef94-fd25662e7b16"
   },
   "outputs": [],
   "source": [
    "explainer = shap.Explainer(model.predict, X[y == 1,:])\n",
    "shap_values = explainer(X[:1,:])\n",
    "print(\"Model prediction:\", model.predict(X[:1,:]).squeeze().round(4))\n",
    "print(\"SHAP values for (is_young = True, is_female = False):\", shap_values[0].values)\n",
    "print(\"SHAP base values:\", shap_values[0].base_values.round(4))\n",
    "print(\"Model output with SHAP:\", (shap_values[0].base_values + shap_values[0].values.sum()).round(4))\n",
    "shap.plots.waterfall(shap_values[0])"
   ]
  },
  {
   "cell_type": "markdown",
   "metadata": {
    "id": "wLvudX7tAb7g"
   },
   "source": [
    "### Question 7: Check the shap values provided by the shap library. You must follow the same approach as in the previous questions. "
   ]
  },
  {
   "cell_type": "code",
   "execution_count": null,
   "metadata": {
    "colab": {
     "base_uri": "https://localhost:8080/"
    },
    "executionInfo": {
     "elapsed": 4,
     "status": "ok",
     "timestamp": 1674393657408,
     "user": {
      "displayName": "Lionel Fillatre",
      "userId": "14463393848879581998"
     },
     "user_tz": -60
    },
    "id": "f1Y_FRJ2Ab7g",
    "outputId": "6bd485a8-44ed-43f0-a5c1-537a8a6bc98e"
   },
   "outputs": [],
   "source": [
    "# Fill in this cell\n",
    "shap_base_value_positive = np.mean(model.predict(X[y == 1,:]))\n",
    "print(\"SHAP base values:\", shap_base_value_positive.round(4))\n",
    "expect_features_positive = (model.coef_)*(np.mean(X[y == 1,:],0))\n",
    "phi_positive = (model.coef_)*X[0,:]-expect_features_positive\n",
    "print(\"SHAP values for (is_young = True, is_female = False):\", phi_positive)"
   ]
  }
 ],
 "metadata": {
  "colab": {
   "provenance": []
  },
  "kernelspec": {
   "display_name": "Python 3 (ipykernel)",
   "language": "python",
   "name": "python3"
  },
  "language_info": {
   "codemirror_mode": {
    "name": "ipython",
    "version": 3
   },
   "file_extension": ".py",
   "mimetype": "text/x-python",
   "name": "python",
   "nbconvert_exporter": "python",
   "pygments_lexer": "ipython3",
   "version": "3.8.12"
  }
 },
 "nbformat": 4,
 "nbformat_minor": 1
}
